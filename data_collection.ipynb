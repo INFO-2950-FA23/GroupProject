{
 "cells": [
  {
   "cell_type": "markdown",
   "metadata": {},
   "source": [
    "**Process of Data Collection & Conversion to .csv File**\n",
    "\n",
    "In this process, we outline the code steps taken to collect the data and convert it to .csv files. "
   ]
  },
  {
   "cell_type": "code",
   "execution_count": 9,
   "metadata": {},
   "outputs": [],
   "source": [
    "import requests\n",
    "from bs4 import BeautifulSoup\n",
    "\n",
    "import pandas as pd\n",
    "import duckdb\n",
    "import numpy as np\n",
    "import time"
   ]
  },
  {
   "cell_type": "markdown",
   "metadata": {},
   "source": [
    "These files were then read, cleaned, and manipulated in the phase 2 submission file. "
   ]
  },
  {
   "cell_type": "markdown",
   "metadata": {},
   "source": [
    "**Player Stats**\n",
    "In this section after importing above, I collected the url and created a dataframe that collected all of the data from all of the seasons from the 2003-2004 season to the 2022-2023 season for the top player stats, ranking which players led during the season and what their stats were. I combined all of this data into one main data frame using a for loop. The data is originally filtered by average points per game for each player per season."
   ]
  },
  {
   "cell_type": "code",
   "execution_count": 10,
   "metadata": {},
   "outputs": [],
   "source": [
    "#Create a list of all of the seasons to collect data from\n",
    "season_years = [\"2003-04\", \"2004-05\", \"2005-06\", \"2006-07\", \"2007-08\", \"2008-09\", \"2009-10\", \"2010-11\", \"2012-13\", \\\n",
    "    \"2013-14\", \"2014-15\", \"2015-16\", \"2016-17\", \"2017-18\", \"2018-19\", \"2019-20\", \"2020-21\", \"2021-22\",\"2022-23\"]\n",
    "\n",
    "#Intialize empty list for dataframes to be added to\n",
    "dataframes = []\n",
    "\n",
    "#Loop through the season years and \n",
    "for season_year in season_years:\n",
    "\n",
    "    #Add {season_year} into the api url to change each iteration\n",
    "    url = f\"https://stats.nba.com/stats/leagueLeaders?LeagueID=00&PerMode=PerGame&Scope=S&Season={season_year}&SeasonType=Regular%20Season&StatCategory=PTS\"\n",
    "    response = requests.get(url).json()\n",
    "\n",
    "    table_headers = response['resultSet']['headers']\n",
    "    season_data = pd.DataFrame(response['resultSet']['rowSet'], columns=table_headers)\n",
    "\n",
    "    # Do we want this to be first or last?\n",
    "    season_data['Year'] = season_year\n",
    "\n",
    "    # Append the dataframe to the list\n",
    "    dataframes.append(season_data)\n",
    "\n",
    "# Concatenate all dataframes into one giant dataframe\n",
    "player_stat_df = pd.concat(dataframes, ignore_index=True)\n",
    "player_stat_df\n",
    "player_stat_df.to_csv('player_stats.csv')\n"
   ]
  },
  {
   "cell_type": "markdown",
   "metadata": {},
   "source": [
    "**Team Stat Data Collection**\n",
    "@Akhil add in process here"
   ]
  },
  {
   "cell_type": "code",
   "execution_count": 11,
   "metadata": {},
   "outputs": [],
   "source": [
    "#Add here\n",
    "#Existing method (incorrect data - acting as place holder)\n",
    "\n",
    "data=[]\n",
    "\n",
    "#Collect this number of years\n",
    "years = ['2004-06-16', '2005-06-16', '2006-06-16', '2007-06-16', '2008-06-16', '2009-06-16', '2010-06-16', \\\n",
    "    '2011-06-16', '2012-06-16', '2013-06-16', '2014-06-16', '2015-06-16', '2016-06-16', '2017-06-16', '2018-06-16', \\\n",
    "    '2019-06-16', '2020-06-16', '2021-06-16', '2022-06-16', '2023-06-16'] \n",
    "\n",
    "#Loop through the different years and collect the data about team name and average points per game\n",
    "for year in years:\n",
    "    url = f\"https://www.teamrankings.com/nba/stat/points-per-game?date={year}\"\n",
    "\n",
    "    response = requests.get(url)\n",
    "\n",
    "    if response.status_code != 200:\n",
    "        print(\"Something went wrong:\", response.status_code, response.reason)\n",
    "        continue\n",
    "\n",
    "    page = BeautifulSoup(response.content, 'html.parser')\n",
    "\n",
    "    table_body = page.find('tbody')\n",
    "\n",
    "    rows = table_body.find_all('tr')\n",
    "\n",
    "    year_num = int(year[:4])\n",
    "    season_str = str((year_num-1))+\"-\"+str(year_num)[2:4]\n",
    "\n",
    "    for row in rows:\n",
    "        team_name = row.find('td', {\"class\": \"text-left nowrap\"}).text\n",
    "        PTG = row.find('td', {\"class\" :'text-right'}).text\n",
    "        data.append([season_str, team_name, PTG])\n",
    "\n",
    "team_stats_df = pd.DataFrame(data, columns=['Year', 'Team', 'PTG'])"
   ]
  },
  {
   "cell_type": "markdown",
   "metadata": {},
   "source": [
    "**Historical MVP Data Collection**\n",
    "This is the data historically ranking the MVPs over the seasons that are being analyzed. It goes through the list of target seasons and splits the text on the page to create a dataframe. This had to be done by using a text representation since the other sources were not able to be scraped."
   ]
  },
  {
   "cell_type": "code",
   "execution_count": 12,
   "metadata": {},
   "outputs": [],
   "source": [
    "url = \"https://www.nba.com/news/history-mvp-award-winners\"\n",
    "\n",
    "response = requests.get(url)\n",
    "\n",
    "if response.status_code != 200:\n",
    "        print(\"Something went wrong:\", response.status_code, response.reason)\n",
    "\n",
    "page = BeautifulSoup(response.content, 'html.parser')\n",
    "\n",
    "\n",
    "target_seasons = [\"2003-04\", \"2004-05\", \"2005-06\", \"2006-07\", \"2007-08\", \"2008-09\", \"2009-10\", \"2010-11\", \"2011-12\", \\\n",
    "    \"2012-13\", \"2013-14\", \"2014-15\", \"2015-16\", \"2016-17\", \"2017-18\", \"2018-19\", \"2019-20\", \"2020-21\", \"2021-22\", \"2022-23\"]\n",
    "\n",
    "data = {} \n",
    "\n",
    "# Loop through the target seasons\n",
    "for target_season in target_seasons:\n",
    "    for p_tag in page.find_all('p'):\n",
    "        if target_season in p_tag.text:\n",
    "            split_data = p_tag.text.split(' — ')\n",
    "            if len(split_data) > 1:\n",
    "                winner = split_data[1].split(',')[0]\n",
    "                data[target_season] = winner\n",
    "\n",
    "# Create a DataFrame from the data dictionary\n",
    "mvp_df = pd.DataFrame(list(data.items()), columns=[\"Year\", \"MVP_Name\"])\n",
    "mvp_df\n",
    "mvp_df.to_csv('mvp_historical.csv')"
   ]
  }
 ],
 "metadata": {
  "kernelspec": {
   "display_name": "Python 3.11.4 ('info2950')",
   "language": "python",
   "name": "python3"
  },
  "language_info": {
   "codemirror_mode": {
    "name": "ipython",
    "version": 3
   },
   "file_extension": ".py",
   "mimetype": "text/x-python",
   "name": "python",
   "nbconvert_exporter": "python",
   "pygments_lexer": "ipython3",
   "version": "3.11.4"
  },
  "orig_nbformat": 4,
  "vscode": {
   "interpreter": {
    "hash": "4f30da6fd141dcec1f686a2d3870ea3fbe3345d19df0b7c05e23f27c1e7c07e3"
   }
  }
 },
 "nbformat": 4,
 "nbformat_minor": 2
}
